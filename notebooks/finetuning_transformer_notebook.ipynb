{
  "cells": [
    {
      "cell_type": "markdown",
      "metadata": {
        "id": "DKGoQu3mCfRM"
      },
      "source": [
        "# Fine-tuning Transformer Model"
      ]
    },
    {
      "cell_type": "markdown",
      "metadata": {
        "id": "vF2mAq9ACav9"
      },
      "source": [
        "## Colab Section"
      ]
    },
    {
      "cell_type": "code",
      "execution_count": 1,
      "metadata": {
        "id": "wuLQxDkhME0R"
      },
      "outputs": [],
      "source": [
        "# run first: data_exploration.ipynb"
      ]
    },
    {
      "cell_type": "code",
      "execution_count": 2,
      "metadata": {
        "colab": {
          "base_uri": "https://localhost:8080/"
        },
        "id": "d2xaK4JH8hdL",
        "outputId": "688c6f2e-cf4f-4273-ccea-a99e293bdf98"
      },
      "outputs": [],
      "source": [
        "# !git clone https://github.com/XnibyH/PatentMatch-Experiment.git\n",
        "# %cd PatentMatch-Experiment"
      ]
    },
    {
      "cell_type": "code",
      "execution_count": 3,
      "metadata": {
        "id": "rR5rKJrw84yq"
      },
      "outputs": [],
      "source": [
        "# !pip install -U -r requirements.txt --quiet"
      ]
    },
    {
      "cell_type": "code",
      "execution_count": 4,
      "metadata": {
        "id": "nWhOI85yBV1A"
      },
      "outputs": [],
      "source": [
        "# colab specific\n",
        "# !pip install -U accelerate --quiet\n",
        "# !pip install -U transformers --quiet"
      ]
    },
    {
      "cell_type": "code",
      "execution_count": 5,
      "metadata": {
        "id": "4CpgXdCW9px4"
      },
      "outputs": [],
      "source": [
        "# from google.colab import files\n",
        "\n",
        "# # # upload data\n",
        "# %cd data\n",
        "# uploaded_files = files.upload()\n",
        "# %cd .."
      ]
    },
    {
      "cell_type": "code",
      "execution_count": 6,
      "metadata": {
        "id": "VZYNsfdL_txy"
      },
      "outputs": [],
      "source": [
        "# # upload .env\n",
        "# uploaded_files = files.upload()"
      ]
    },
    {
      "cell_type": "code",
      "execution_count": 7,
      "metadata": {},
      "outputs": [
        {
          "name": "stdout",
          "output_type": "stream",
          "text": [
            "/data/testing/PatentMatch-Experiment\n"
          ]
        },
        {
          "name": "stderr",
          "output_type": "stream",
          "text": [
            "/data/testing/.venv/lib/python3.10/site-packages/IPython/core/magics/osm.py:417: UserWarning: This is now an optional IPython functionality, setting dhist requires you to install the `pickleshare` library.\n",
            "  self.shell.db['dhist'] = compress_dhist(dhist)[-100:]\n"
          ]
        }
      ],
      "source": [
        "# locally\n",
        "%cd .."
      ]
    },
    {
      "cell_type": "markdown",
      "metadata": {
        "id": "gpvcwgWsCkij"
      },
      "source": [
        "## Fine-tuning"
      ]
    },
    {
      "cell_type": "code",
      "execution_count": 8,
      "metadata": {
        "colab": {
          "base_uri": "https://localhost:8080/"
        },
        "id": "8yWNbGCm8eUv",
        "outputId": "b3511bba-810a-4f2d-cbcb-2c6b518cc751"
      },
      "outputs": [
        {
          "name": "stderr",
          "output_type": "stream",
          "text": [
            "/data/testing/.venv/lib/python3.10/site-packages/tqdm/auto.py:21: TqdmWarning: IProgress not found. Please update jupyter and ipywidgets. See https://ipywidgets.readthedocs.io/en/stable/user_install.html\n",
            "  from .autonotebook import tqdm as notebook_tqdm\n",
            "2024/06/01 00:14:07 INFO mlflow.system_metrics.system_metrics_monitor: Started monitoring system metrics.\n"
          ]
        }
      ],
      "source": [
        "import mlflow\n",
        "import datasets\n",
        "from transformers import AutoTokenizer, AutoModelForSequenceClassification, TrainingArguments, Trainer\n",
        "import evaluate\n",
        "from src.utils import timestamp\n",
        "import torch\n",
        "import numpy as np\n",
        "from src.settings import (\n",
        "    MLFLOW_EXPERIMENT_NAME,\n",
        "    )\n",
        "\n",
        "\n",
        "# Check if a GPU is available and set the device\n",
        "device = 0 if torch.cuda.is_available() else -1\n",
        "\n",
        "# select the model\n",
        "all_models = {\n",
        "    'all-mpnet-base-v2': 'sentence-transformers/all-mpnet-base-v2',\n",
        "    'stsb-roberta-large': 'cross-encoder/stsb-roberta-large',\n",
        "    'stsb-roberta-base': 'cross-encoder/stsb-roberta-base',\n",
        "    'Legal-BERT': 'nlpaueb/legal-bert-base-uncased',\n",
        "    'EURLEX-BERT': 'nlpaueb/bert-base-uncased-eurlex',\n",
        "    'SciBERT': 'allenai/scibert_scivocab_uncased',\n",
        "    # fine-tuned models below\n",
        "    #\n",
        "}\n",
        "\n",
        "selected_model = all_models['stsb-roberta-base']\n",
        "\n",
        "# set mlflow parameters and start the experiment\n",
        "mlflow.set_experiment(MLFLOW_EXPERIMENT_NAME)\n",
        "# # mlflow.start_run(experiment_id=experiment.experiment_id, log_system_metrics=True)\n",
        "mlflow.set_tag(key='mlflow.runName', value=f\"Training_{selected_model.split('/')[1]}_{timestamp()}\")"
      ]
    },
    {
      "cell_type": "markdown",
      "metadata": {
        "id": "azaOb8JJ8eUx"
      },
      "source": [
        "## Load and Train/Validation Split the Dataset"
      ]
    },
    {
      "cell_type": "code",
      "execution_count": 9,
      "metadata": {
        "id": "e7yk0DfM8eUx"
      },
      "outputs": [],
      "source": [
        "# loading train and test datasets\n",
        "dataset = datasets.load_dataset(\"parquet\", data_files={\"train\": \"data/train_clean.parquet\", \"test\": \"data/test_clean.parquet\"})\n",
        "\n",
        "# split train into train and validation sets 20%\n",
        "train_test_split = dataset['train'].train_test_split(test_size=0.20)\n",
        "\n",
        "# rename temporary test from train for validation\n",
        "train_test_split['validation'] = train_test_split.pop('test')\n",
        "\n",
        "# full dataset: train, validation\n",
        "dataset = datasets.DatasetDict({\n",
        "    'train': train_test_split['train'],\n",
        "    'validation': train_test_split['validation'],\n",
        "    'test': dataset['test']\n",
        "})"
      ]
    },
    {
      "cell_type": "markdown",
      "metadata": {
        "id": "Mu6kNT0V8eUz"
      },
      "source": [
        "## Tokenize the Dataset"
      ]
    },
    {
      "cell_type": "code",
      "execution_count": 10,
      "metadata": {
        "colab": {
          "base_uri": "https://localhost:8080/",
          "height": 205,
          "referenced_widgets": [
            "ccf26fdacfc74ab2b6d3144c30367493",
            "a149e29ca6fa4b0b81d25b08d2dc92d7",
            "732771149c0140a9949e7175a0f23b2e",
            "eae45fbfbe9545fea7c6582a08d3b366",
            "56e93ef9cdd04755af580085f19da0de",
            "e228af1f556a427cba1e64a76481f52e",
            "b85f6554e56046958f660ec9ffa2bff2",
            "91d6faf1bb894ecdb7ca8655fc522c9f",
            "6b5419baec3f4a3da4a9fc51914c01c9",
            "1bd04eceb5224c99af10b279edb84727",
            "06e90dd00d4b4da09973de3e8b03db46",
            "75ea45b6ebf6416e842231c8c5cbc40e",
            "2d975f2305bb4b949cf67fa1f1bcd8ec",
            "a0b4030433874109b0cf91ff6b9fc735",
            "bdbfcaf286d74ae689f09cea8534fced",
            "42bf356c310c425cbc102fa8dd379574",
            "f2cb1af99c3a44a49ec1ae8c55e7e3b6",
            "6bc451589fc14252ac83494cf3dea3bd",
            "56d8e41a054a435984e3dc9ed688f102",
            "c104133a5d7a4d99a9d52392196175f5",
            "ed6f38fe5e9446bdae0969311238d593",
            "b5e6586cf92b4017b3d52c0e401f46c1"
          ]
        },
        "id": "Of13PC_U8eUz",
        "outputId": "ea961645-5b8c-457a-ce5a-3ce88e7f2727"
      },
      "outputs": [
        {
          "name": "stderr",
          "output_type": "stream",
          "text": [
            "Map: 100%|██████████| 2329/2329 [00:00<00:00, 4266.97 examples/s]\n",
            "Map: 100%|██████████| 583/583 [00:00<00:00, 4590.20 examples/s]\n"
          ]
        }
      ],
      "source": [
        "# init tokenizer\n",
        "tokenizer = AutoTokenizer.from_pretrained(selected_model)\n",
        "\n",
        "def preprocess_function(batch):\n",
        "    # Tokenize the pairs of texts\n",
        "    inputs = tokenizer(\n",
        "        batch['text'], batch['text_b'],\n",
        "        padding='max_length',\n",
        "        truncation=True,\n",
        "        max_length=tokenizer.model_max_length,  # None == tokenizer.model_max_length\n",
        "        # return_overflowing_tokens=True,\n",
        "        # stride=253,\n",
        "        return_tensors=\"pt\",\n",
        "        )\n",
        "    inputs['label'] = batch['label']\n",
        "    return inputs\n",
        "\n",
        "# preprocess the data  # TODO check truncated for possible data loss in training\n",
        "tokenized_dataset = dataset.map(preprocess_function, batched=True)"
      ]
    },
    {
      "cell_type": "markdown",
      "metadata": {
        "id": "_l8TU-te8eU0"
      },
      "source": [
        "## Configure a Model"
      ]
    },
    {
      "cell_type": "code",
      "execution_count": 11,
      "metadata": {
        "id": "bQcjlaBc8eU0"
      },
      "outputs": [
        {
          "name": "stderr",
          "output_type": "stream",
          "text": [
            "/data/testing/.venv/lib/python3.10/site-packages/torch/_utils.py:831: UserWarning: TypedStorage is deprecated. It will be removed in the future and UntypedStorage will be the only storage class. This should only matter to you if you are using storages directly.  To access UntypedStorage directly, use tensor.untyped_storage() instead of tensor.storage()\n",
            "  return self.fget.__get__(instance, owner)()\n"
          ]
        }
      ],
      "source": [
        "# set num_labels for selected model - cross-encoder support only 1 label\n",
        "num_labels = 1 #1 if selected_model.split('/')[0] in ['cross-encoder'] else 2\n",
        "\n",
        "# init the model\n",
        "model = AutoModelForSequenceClassification.from_pretrained(selected_model, num_labels=num_labels)\n"
      ]
    },
    {
      "cell_type": "code",
      "execution_count": 12,
      "metadata": {},
      "outputs": [],
      "source": [
        "def logits_to_probabilities(logits):\n",
        "    \"\"\"\n",
        "    Convert logits to probabilities using the sigmoid function.\n",
        "\n",
        "    Args:\n",
        "    logits (torch.Tensor or np.ndarray): Logits output from the model.\n",
        "\n",
        "    Returns:\n",
        "    torch.Tensor: Probabilities.\n",
        "    \"\"\"\n",
        "    if isinstance(logits, np.ndarray):\n",
        "        logits = torch.tensor(logits)\n",
        "    \n",
        "    probabilities = torch.sigmoid(logits)\n",
        "    \n",
        "    # Binarize the output using the threshold\n",
        "    binary_predictions = (probabilities >= 0.5).int()\n",
        "    \n",
        "    return binary_predictions"
      ]
    },
    {
      "cell_type": "code",
      "execution_count": 13,
      "metadata": {
        "id": "wEKHh3LN8eU1"
      },
      "outputs": [],
      "source": [
        "def compute_metrics(eval_pred):\n",
        "    # Load metrics\n",
        "    f1_metric = evaluate.load(\"f1\")\n",
        "    mcc_metric = evaluate.load(\"matthews_correlation\")\n",
        "\n",
        "    # eval predictions\n",
        "    logits, labels = eval_pred\n",
        "    # logits = [x[0] for x in logits]\n",
        "    predictions = logits_to_probabilities(logits)\n",
        "\n",
        "    # print(predictions)\n",
        "    # print(labels)\n",
        "\n",
        "\n",
        "    # predictions, labels = trainer.preprocess_logits_for_metrics(eval_pred)\n",
        "    # # predictions = logits\n",
        "    # print(predictions)\n",
        "    # # predictions = np.argmax(logits, axis=-1)\n",
        "\n",
        "    # # # predictions for cross-encoder output\n",
        "    # # predictions = logits_to_probabilities(logits)\n",
        "    # # # binarization\n",
        "    # # predictions = [0 if x <= 0.51 else 1 for x in predictions]\n",
        "    # # # predictions = [x[0] for x in logits]\n",
        "    # # # print(predictions)\n",
        "\n",
        "    f1 = f1_metric.compute(predictions=predictions, references=labels)\n",
        "    mcc = mcc_metric.compute(predictions=predictions, references=labels)\n",
        "\n",
        "    # print(f1)\n",
        "    # print(mcc)\n",
        "\n",
        "    return {\n",
        "        \"f1\": f1[\"f1\"],\n",
        "        \"mcc\": mcc[\"matthews_correlation\"]\n",
        "    }\n",
        "\n",
        "\n",
        "# set training arguments\n",
        "training_args = TrainingArguments(\n",
        "    output_dir=f\"./fine_tuning_results/{selected_model.split('/')[1]}\",\n",
        "    num_train_epochs=10,\n",
        "    per_device_train_batch_size=32,  # colab\n",
        "    per_device_eval_batch_size=128,  # colab\n",
        "    # per_device_train_batch_size=1,  # local\n",
        "    # per_device_eval_batch_size=1,  # local\n",
        "    warmup_steps=20,  # number of warmup steps for learning rate scheduler\n",
        "    weight_decay=0.01,  # strength of weight decay\n",
        "    learning_rate=2e-5,  # learning rate\n",
        "    save_total_limit=5,  # limit the total amount of checkpoints, delete the older checkpoints\n",
        "    logging_dir=f\"./fine_tuning_results/{selected_model.split('/')[1]}/logs\",  # directory for storing logs\n",
        "    logging_steps=10,\n",
        "    eval_strategy=\"steps\",\n",
        "    eval_steps=30,  # 50\n",
        "    save_strategy=\"epoch\",\n",
        "    save_steps=1,\n",
        "    \n",
        ")\n",
        "\n",
        "# init trainer\n",
        "trainer = Trainer(\n",
        "    model=model,\n",
        "    args=training_args,\n",
        "    train_dataset=tokenized_dataset[\"train\"],\n",
        "    eval_dataset=tokenized_dataset[\"validation\"],\n",
        "    compute_metrics=compute_metrics,\n",
        ")"
      ]
    },
    {
      "cell_type": "markdown",
      "metadata": {
        "id": "1dJVRo7R8eU2"
      },
      "source": [
        "## Start Training"
      ]
    },
    {
      "cell_type": "code",
      "execution_count": 14,
      "metadata": {
        "colab": {
          "base_uri": "https://localhost:8080/",
          "height": 1000
        },
        "id": "3XdOowx88eU3",
        "outputId": "a1537ff2-3514-46a3-bf4b-3af951d20852"
      },
      "outputs": [
        {
          "data": {
            "text/html": [
              "\n",
              "    <div>\n",
              "      \n",
              "      <progress value='730' max='730' style='width:300px; height:20px; vertical-align: middle;'></progress>\n",
              "      [730/730 11:15, Epoch 10/10]\n",
              "    </div>\n",
              "    <table border=\"1\" class=\"dataframe\">\n",
              "  <thead>\n",
              " <tr style=\"text-align: left;\">\n",
              "      <th>Step</th>\n",
              "      <th>Training Loss</th>\n",
              "      <th>Validation Loss</th>\n",
              "      <th>F1</th>\n",
              "      <th>Mcc</th>\n",
              "    </tr>\n",
              "  </thead>\n",
              "  <tbody>\n",
              "    <tr>\n",
              "      <td>30</td>\n",
              "      <td>0.261500</td>\n",
              "      <td>0.254989</td>\n",
              "      <td>0.732609</td>\n",
              "      <td>0.000000</td>\n",
              "    </tr>\n",
              "    <tr>\n",
              "      <td>60</td>\n",
              "      <td>0.243000</td>\n",
              "      <td>0.245034</td>\n",
              "      <td>0.732609</td>\n",
              "      <td>0.000000</td>\n",
              "    </tr>\n",
              "    <tr>\n",
              "      <td>90</td>\n",
              "      <td>0.252600</td>\n",
              "      <td>0.244950</td>\n",
              "      <td>0.732609</td>\n",
              "      <td>0.000000</td>\n",
              "    </tr>\n",
              "    <tr>\n",
              "      <td>120</td>\n",
              "      <td>0.246200</td>\n",
              "      <td>0.244497</td>\n",
              "      <td>0.732609</td>\n",
              "      <td>0.000000</td>\n",
              "    </tr>\n",
              "    <tr>\n",
              "      <td>150</td>\n",
              "      <td>0.229100</td>\n",
              "      <td>0.240645</td>\n",
              "      <td>0.732609</td>\n",
              "      <td>0.000000</td>\n",
              "    </tr>\n",
              "    <tr>\n",
              "      <td>180</td>\n",
              "      <td>0.237900</td>\n",
              "      <td>0.241890</td>\n",
              "      <td>0.732609</td>\n",
              "      <td>0.000000</td>\n",
              "    </tr>\n",
              "    <tr>\n",
              "      <td>210</td>\n",
              "      <td>0.223600</td>\n",
              "      <td>0.255692</td>\n",
              "      <td>0.732609</td>\n",
              "      <td>0.000000</td>\n",
              "    </tr>\n",
              "    <tr>\n",
              "      <td>240</td>\n",
              "      <td>0.177400</td>\n",
              "      <td>0.275510</td>\n",
              "      <td>0.730263</td>\n",
              "      <td>0.018640</td>\n",
              "    </tr>\n",
              "    <tr>\n",
              "      <td>270</td>\n",
              "      <td>0.157700</td>\n",
              "      <td>0.286474</td>\n",
              "      <td>0.728273</td>\n",
              "      <td>0.009151</td>\n",
              "    </tr>\n",
              "    <tr>\n",
              "      <td>300</td>\n",
              "      <td>0.138900</td>\n",
              "      <td>0.285606</td>\n",
              "      <td>0.727674</td>\n",
              "      <td>0.012104</td>\n",
              "    </tr>\n",
              "    <tr>\n",
              "      <td>330</td>\n",
              "      <td>0.111200</td>\n",
              "      <td>0.310951</td>\n",
              "      <td>0.720183</td>\n",
              "      <td>0.059969</td>\n",
              "    </tr>\n",
              "    <tr>\n",
              "      <td>360</td>\n",
              "      <td>0.116300</td>\n",
              "      <td>0.300758</td>\n",
              "      <td>0.729490</td>\n",
              "      <td>0.048284</td>\n",
              "    </tr>\n",
              "    <tr>\n",
              "      <td>390</td>\n",
              "      <td>0.082300</td>\n",
              "      <td>0.369588</td>\n",
              "      <td>0.728080</td>\n",
              "      <td>0.038785</td>\n",
              "    </tr>\n",
              "    <tr>\n",
              "      <td>420</td>\n",
              "      <td>0.073600</td>\n",
              "      <td>0.326037</td>\n",
              "      <td>0.716590</td>\n",
              "      <td>0.049452</td>\n",
              "    </tr>\n",
              "    <tr>\n",
              "      <td>450</td>\n",
              "      <td>0.048800</td>\n",
              "      <td>0.319467</td>\n",
              "      <td>0.716590</td>\n",
              "      <td>0.049452</td>\n",
              "    </tr>\n",
              "    <tr>\n",
              "      <td>480</td>\n",
              "      <td>0.053100</td>\n",
              "      <td>0.319969</td>\n",
              "      <td>0.722537</td>\n",
              "      <td>0.048260</td>\n",
              "    </tr>\n",
              "    <tr>\n",
              "      <td>510</td>\n",
              "      <td>0.061500</td>\n",
              "      <td>0.357615</td>\n",
              "      <td>0.716078</td>\n",
              "      <td>0.024661</td>\n",
              "    </tr>\n",
              "    <tr>\n",
              "      <td>540</td>\n",
              "      <td>0.032200</td>\n",
              "      <td>0.340160</td>\n",
              "      <td>0.715447</td>\n",
              "      <td>0.058784</td>\n",
              "    </tr>\n",
              "    <tr>\n",
              "      <td>570</td>\n",
              "      <td>0.027600</td>\n",
              "      <td>0.354241</td>\n",
              "      <td>0.713604</td>\n",
              "      <td>0.093901</td>\n",
              "    </tr>\n",
              "    <tr>\n",
              "      <td>600</td>\n",
              "      <td>0.025600</td>\n",
              "      <td>0.348799</td>\n",
              "      <td>0.723788</td>\n",
              "      <td>0.046223</td>\n",
              "    </tr>\n",
              "    <tr>\n",
              "      <td>630</td>\n",
              "      <td>0.020600</td>\n",
              "      <td>0.357807</td>\n",
              "      <td>0.716937</td>\n",
              "      <td>0.064128</td>\n",
              "    </tr>\n",
              "    <tr>\n",
              "      <td>660</td>\n",
              "      <td>0.025400</td>\n",
              "      <td>0.357828</td>\n",
              "      <td>0.721578</td>\n",
              "      <td>0.087335</td>\n",
              "    </tr>\n",
              "    <tr>\n",
              "      <td>690</td>\n",
              "      <td>0.017300</td>\n",
              "      <td>0.356938</td>\n",
              "      <td>0.720093</td>\n",
              "      <td>0.081816</td>\n",
              "    </tr>\n",
              "    <tr>\n",
              "      <td>720</td>\n",
              "      <td>0.016400</td>\n",
              "      <td>0.353681</td>\n",
              "      <td>0.721698</td>\n",
              "      <td>0.112099</td>\n",
              "    </tr>\n",
              "  </tbody>\n",
              "</table><p>"
            ],
            "text/plain": [
              "<IPython.core.display.HTML object>"
            ]
          },
          "metadata": {},
          "output_type": "display_data"
        },
        {
          "data": {
            "text/html": [
              "\n",
              "    <div>\n",
              "      \n",
              "      <progress value='5' max='5' style='width:300px; height:20px; vertical-align: middle;'></progress>\n",
              "      [5/5 00:03]\n",
              "    </div>\n",
              "    "
            ],
            "text/plain": [
              "<IPython.core.display.HTML object>"
            ]
          },
          "metadata": {},
          "output_type": "display_data"
        },
        {
          "name": "stderr",
          "output_type": "stream",
          "text": [
            "2024/06/01 00:25:34 INFO mlflow.system_metrics.system_metrics_monitor: Stopping system metrics monitoring...\n",
            "2024/06/01 00:25:34 INFO mlflow.system_metrics.system_metrics_monitor: Successfully terminated system metrics monitoring!\n"
          ]
        }
      ],
      "source": [
        "# Train the model\n",
        "trainer.train()\n",
        "\n",
        "# Evaluate the model\n",
        "trainer.evaluate()\n",
        "\n",
        "# Save the model\n",
        "trainer.save_model(f\"./saved_models/{selected_model.split('/')[1]}_FT\")\n",
        "\n",
        "# end experiment\n",
        "mlflow.end_run()"
      ]
    },
    {
      "cell_type": "code",
      "execution_count": null,
      "metadata": {},
      "outputs": [],
      "source": []
    }
  ],
  "metadata": {
    "accelerator": "GPU",
    "colab": {
      "gpuType": "T4",
      "provenance": []
    },
    "kernelspec": {
      "display_name": "Python 3",
      "name": "python3"
    },
    "language_info": {
      "codemirror_mode": {
        "name": "ipython",
        "version": 3
      },
      "file_extension": ".py",
      "mimetype": "text/x-python",
      "name": "python",
      "nbconvert_exporter": "python",
      "pygments_lexer": "ipython3",
      "version": "3.10.12"
    },
    "widgets": {
      "application/vnd.jupyter.widget-state+json": {
        "06e90dd00d4b4da09973de3e8b03db46": {
          "model_module": "@jupyter-widgets/controls",
          "model_module_version": "1.5.0",
          "model_name": "DescriptionStyleModel",
          "state": {
            "_model_module": "@jupyter-widgets/controls",
            "_model_module_version": "1.5.0",
            "_model_name": "DescriptionStyleModel",
            "_view_count": null,
            "_view_module": "@jupyter-widgets/base",
            "_view_module_version": "1.2.0",
            "_view_name": "StyleView",
            "description_width": ""
          }
        },
        "1bd04eceb5224c99af10b279edb84727": {
          "model_module": "@jupyter-widgets/base",
          "model_module_version": "1.2.0",
          "model_name": "LayoutModel",
          "state": {
            "_model_module": "@jupyter-widgets/base",
            "_model_module_version": "1.2.0",
            "_model_name": "LayoutModel",
            "_view_count": null,
            "_view_module": "@jupyter-widgets/base",
            "_view_module_version": "1.2.0",
            "_view_name": "LayoutView",
            "align_content": null,
            "align_items": null,
            "align_self": null,
            "border": null,
            "bottom": null,
            "display": null,
            "flex": null,
            "flex_flow": null,
            "grid_area": null,
            "grid_auto_columns": null,
            "grid_auto_flow": null,
            "grid_auto_rows": null,
            "grid_column": null,
            "grid_gap": null,
            "grid_row": null,
            "grid_template_areas": null,
            "grid_template_columns": null,
            "grid_template_rows": null,
            "height": null,
            "justify_content": null,
            "justify_items": null,
            "left": null,
            "margin": null,
            "max_height": null,
            "max_width": null,
            "min_height": null,
            "min_width": null,
            "object_fit": null,
            "object_position": null,
            "order": null,
            "overflow": null,
            "overflow_x": null,
            "overflow_y": null,
            "padding": null,
            "right": null,
            "top": null,
            "visibility": null,
            "width": null
          }
        },
        "2d975f2305bb4b949cf67fa1f1bcd8ec": {
          "model_module": "@jupyter-widgets/controls",
          "model_module_version": "1.5.0",
          "model_name": "HTMLModel",
          "state": {
            "_dom_classes": [],
            "_model_module": "@jupyter-widgets/controls",
            "_model_module_version": "1.5.0",
            "_model_name": "HTMLModel",
            "_view_count": null,
            "_view_module": "@jupyter-widgets/controls",
            "_view_module_version": "1.5.0",
            "_view_name": "HTMLView",
            "description": "",
            "description_tooltip": null,
            "layout": "IPY_MODEL_f2cb1af99c3a44a49ec1ae8c55e7e3b6",
            "placeholder": "​",
            "style": "IPY_MODEL_6bc451589fc14252ac83494cf3dea3bd",
            "value": "Map: 100%"
          }
        },
        "42bf356c310c425cbc102fa8dd379574": {
          "model_module": "@jupyter-widgets/base",
          "model_module_version": "1.2.0",
          "model_name": "LayoutModel",
          "state": {
            "_model_module": "@jupyter-widgets/base",
            "_model_module_version": "1.2.0",
            "_model_name": "LayoutModel",
            "_view_count": null,
            "_view_module": "@jupyter-widgets/base",
            "_view_module_version": "1.2.0",
            "_view_name": "LayoutView",
            "align_content": null,
            "align_items": null,
            "align_self": null,
            "border": null,
            "bottom": null,
            "display": null,
            "flex": null,
            "flex_flow": null,
            "grid_area": null,
            "grid_auto_columns": null,
            "grid_auto_flow": null,
            "grid_auto_rows": null,
            "grid_column": null,
            "grid_gap": null,
            "grid_row": null,
            "grid_template_areas": null,
            "grid_template_columns": null,
            "grid_template_rows": null,
            "height": null,
            "justify_content": null,
            "justify_items": null,
            "left": null,
            "margin": null,
            "max_height": null,
            "max_width": null,
            "min_height": null,
            "min_width": null,
            "object_fit": null,
            "object_position": null,
            "order": null,
            "overflow": null,
            "overflow_x": null,
            "overflow_y": null,
            "padding": null,
            "right": null,
            "top": null,
            "visibility": null,
            "width": null
          }
        },
        "56d8e41a054a435984e3dc9ed688f102": {
          "model_module": "@jupyter-widgets/base",
          "model_module_version": "1.2.0",
          "model_name": "LayoutModel",
          "state": {
            "_model_module": "@jupyter-widgets/base",
            "_model_module_version": "1.2.0",
            "_model_name": "LayoutModel",
            "_view_count": null,
            "_view_module": "@jupyter-widgets/base",
            "_view_module_version": "1.2.0",
            "_view_name": "LayoutView",
            "align_content": null,
            "align_items": null,
            "align_self": null,
            "border": null,
            "bottom": null,
            "display": null,
            "flex": null,
            "flex_flow": null,
            "grid_area": null,
            "grid_auto_columns": null,
            "grid_auto_flow": null,
            "grid_auto_rows": null,
            "grid_column": null,
            "grid_gap": null,
            "grid_row": null,
            "grid_template_areas": null,
            "grid_template_columns": null,
            "grid_template_rows": null,
            "height": null,
            "justify_content": null,
            "justify_items": null,
            "left": null,
            "margin": null,
            "max_height": null,
            "max_width": null,
            "min_height": null,
            "min_width": null,
            "object_fit": null,
            "object_position": null,
            "order": null,
            "overflow": null,
            "overflow_x": null,
            "overflow_y": null,
            "padding": null,
            "right": null,
            "top": null,
            "visibility": null,
            "width": null
          }
        },
        "56e93ef9cdd04755af580085f19da0de": {
          "model_module": "@jupyter-widgets/base",
          "model_module_version": "1.2.0",
          "model_name": "LayoutModel",
          "state": {
            "_model_module": "@jupyter-widgets/base",
            "_model_module_version": "1.2.0",
            "_model_name": "LayoutModel",
            "_view_count": null,
            "_view_module": "@jupyter-widgets/base",
            "_view_module_version": "1.2.0",
            "_view_name": "LayoutView",
            "align_content": null,
            "align_items": null,
            "align_self": null,
            "border": null,
            "bottom": null,
            "display": null,
            "flex": null,
            "flex_flow": null,
            "grid_area": null,
            "grid_auto_columns": null,
            "grid_auto_flow": null,
            "grid_auto_rows": null,
            "grid_column": null,
            "grid_gap": null,
            "grid_row": null,
            "grid_template_areas": null,
            "grid_template_columns": null,
            "grid_template_rows": null,
            "height": null,
            "justify_content": null,
            "justify_items": null,
            "left": null,
            "margin": null,
            "max_height": null,
            "max_width": null,
            "min_height": null,
            "min_width": null,
            "object_fit": null,
            "object_position": null,
            "order": null,
            "overflow": null,
            "overflow_x": null,
            "overflow_y": null,
            "padding": null,
            "right": null,
            "top": null,
            "visibility": null,
            "width": null
          }
        },
        "6b5419baec3f4a3da4a9fc51914c01c9": {
          "model_module": "@jupyter-widgets/controls",
          "model_module_version": "1.5.0",
          "model_name": "ProgressStyleModel",
          "state": {
            "_model_module": "@jupyter-widgets/controls",
            "_model_module_version": "1.5.0",
            "_model_name": "ProgressStyleModel",
            "_view_count": null,
            "_view_module": "@jupyter-widgets/base",
            "_view_module_version": "1.2.0",
            "_view_name": "StyleView",
            "bar_color": null,
            "description_width": ""
          }
        },
        "6bc451589fc14252ac83494cf3dea3bd": {
          "model_module": "@jupyter-widgets/controls",
          "model_module_version": "1.5.0",
          "model_name": "DescriptionStyleModel",
          "state": {
            "_model_module": "@jupyter-widgets/controls",
            "_model_module_version": "1.5.0",
            "_model_name": "DescriptionStyleModel",
            "_view_count": null,
            "_view_module": "@jupyter-widgets/base",
            "_view_module_version": "1.2.0",
            "_view_name": "StyleView",
            "description_width": ""
          }
        },
        "732771149c0140a9949e7175a0f23b2e": {
          "model_module": "@jupyter-widgets/controls",
          "model_module_version": "1.5.0",
          "model_name": "FloatProgressModel",
          "state": {
            "_dom_classes": [],
            "_model_module": "@jupyter-widgets/controls",
            "_model_module_version": "1.5.0",
            "_model_name": "FloatProgressModel",
            "_view_count": null,
            "_view_module": "@jupyter-widgets/controls",
            "_view_module_version": "1.5.0",
            "_view_name": "ProgressView",
            "bar_style": "success",
            "description": "",
            "description_tooltip": null,
            "layout": "IPY_MODEL_91d6faf1bb894ecdb7ca8655fc522c9f",
            "max": 2329,
            "min": 0,
            "orientation": "horizontal",
            "style": "IPY_MODEL_6b5419baec3f4a3da4a9fc51914c01c9",
            "value": 2329
          }
        },
        "75ea45b6ebf6416e842231c8c5cbc40e": {
          "model_module": "@jupyter-widgets/controls",
          "model_module_version": "1.5.0",
          "model_name": "HBoxModel",
          "state": {
            "_dom_classes": [],
            "_model_module": "@jupyter-widgets/controls",
            "_model_module_version": "1.5.0",
            "_model_name": "HBoxModel",
            "_view_count": null,
            "_view_module": "@jupyter-widgets/controls",
            "_view_module_version": "1.5.0",
            "_view_name": "HBoxView",
            "box_style": "",
            "children": [
              "IPY_MODEL_2d975f2305bb4b949cf67fa1f1bcd8ec",
              "IPY_MODEL_a0b4030433874109b0cf91ff6b9fc735",
              "IPY_MODEL_bdbfcaf286d74ae689f09cea8534fced"
            ],
            "layout": "IPY_MODEL_42bf356c310c425cbc102fa8dd379574"
          }
        },
        "91d6faf1bb894ecdb7ca8655fc522c9f": {
          "model_module": "@jupyter-widgets/base",
          "model_module_version": "1.2.0",
          "model_name": "LayoutModel",
          "state": {
            "_model_module": "@jupyter-widgets/base",
            "_model_module_version": "1.2.0",
            "_model_name": "LayoutModel",
            "_view_count": null,
            "_view_module": "@jupyter-widgets/base",
            "_view_module_version": "1.2.0",
            "_view_name": "LayoutView",
            "align_content": null,
            "align_items": null,
            "align_self": null,
            "border": null,
            "bottom": null,
            "display": null,
            "flex": null,
            "flex_flow": null,
            "grid_area": null,
            "grid_auto_columns": null,
            "grid_auto_flow": null,
            "grid_auto_rows": null,
            "grid_column": null,
            "grid_gap": null,
            "grid_row": null,
            "grid_template_areas": null,
            "grid_template_columns": null,
            "grid_template_rows": null,
            "height": null,
            "justify_content": null,
            "justify_items": null,
            "left": null,
            "margin": null,
            "max_height": null,
            "max_width": null,
            "min_height": null,
            "min_width": null,
            "object_fit": null,
            "object_position": null,
            "order": null,
            "overflow": null,
            "overflow_x": null,
            "overflow_y": null,
            "padding": null,
            "right": null,
            "top": null,
            "visibility": null,
            "width": null
          }
        },
        "a0b4030433874109b0cf91ff6b9fc735": {
          "model_module": "@jupyter-widgets/controls",
          "model_module_version": "1.5.0",
          "model_name": "FloatProgressModel",
          "state": {
            "_dom_classes": [],
            "_model_module": "@jupyter-widgets/controls",
            "_model_module_version": "1.5.0",
            "_model_name": "FloatProgressModel",
            "_view_count": null,
            "_view_module": "@jupyter-widgets/controls",
            "_view_module_version": "1.5.0",
            "_view_name": "ProgressView",
            "bar_style": "success",
            "description": "",
            "description_tooltip": null,
            "layout": "IPY_MODEL_56d8e41a054a435984e3dc9ed688f102",
            "max": 583,
            "min": 0,
            "orientation": "horizontal",
            "style": "IPY_MODEL_c104133a5d7a4d99a9d52392196175f5",
            "value": 583
          }
        },
        "a149e29ca6fa4b0b81d25b08d2dc92d7": {
          "model_module": "@jupyter-widgets/controls",
          "model_module_version": "1.5.0",
          "model_name": "HTMLModel",
          "state": {
            "_dom_classes": [],
            "_model_module": "@jupyter-widgets/controls",
            "_model_module_version": "1.5.0",
            "_model_name": "HTMLModel",
            "_view_count": null,
            "_view_module": "@jupyter-widgets/controls",
            "_view_module_version": "1.5.0",
            "_view_name": "HTMLView",
            "description": "",
            "description_tooltip": null,
            "layout": "IPY_MODEL_e228af1f556a427cba1e64a76481f52e",
            "placeholder": "​",
            "style": "IPY_MODEL_b85f6554e56046958f660ec9ffa2bff2",
            "value": "Map: 100%"
          }
        },
        "b5e6586cf92b4017b3d52c0e401f46c1": {
          "model_module": "@jupyter-widgets/controls",
          "model_module_version": "1.5.0",
          "model_name": "DescriptionStyleModel",
          "state": {
            "_model_module": "@jupyter-widgets/controls",
            "_model_module_version": "1.5.0",
            "_model_name": "DescriptionStyleModel",
            "_view_count": null,
            "_view_module": "@jupyter-widgets/base",
            "_view_module_version": "1.2.0",
            "_view_name": "StyleView",
            "description_width": ""
          }
        },
        "b85f6554e56046958f660ec9ffa2bff2": {
          "model_module": "@jupyter-widgets/controls",
          "model_module_version": "1.5.0",
          "model_name": "DescriptionStyleModel",
          "state": {
            "_model_module": "@jupyter-widgets/controls",
            "_model_module_version": "1.5.0",
            "_model_name": "DescriptionStyleModel",
            "_view_count": null,
            "_view_module": "@jupyter-widgets/base",
            "_view_module_version": "1.2.0",
            "_view_name": "StyleView",
            "description_width": ""
          }
        },
        "bdbfcaf286d74ae689f09cea8534fced": {
          "model_module": "@jupyter-widgets/controls",
          "model_module_version": "1.5.0",
          "model_name": "HTMLModel",
          "state": {
            "_dom_classes": [],
            "_model_module": "@jupyter-widgets/controls",
            "_model_module_version": "1.5.0",
            "_model_name": "HTMLModel",
            "_view_count": null,
            "_view_module": "@jupyter-widgets/controls",
            "_view_module_version": "1.5.0",
            "_view_name": "HTMLView",
            "description": "",
            "description_tooltip": null,
            "layout": "IPY_MODEL_ed6f38fe5e9446bdae0969311238d593",
            "placeholder": "​",
            "style": "IPY_MODEL_b5e6586cf92b4017b3d52c0e401f46c1",
            "value": " 583/583 [00:00&lt;00:00, 755.42 examples/s]"
          }
        },
        "c104133a5d7a4d99a9d52392196175f5": {
          "model_module": "@jupyter-widgets/controls",
          "model_module_version": "1.5.0",
          "model_name": "ProgressStyleModel",
          "state": {
            "_model_module": "@jupyter-widgets/controls",
            "_model_module_version": "1.5.0",
            "_model_name": "ProgressStyleModel",
            "_view_count": null,
            "_view_module": "@jupyter-widgets/base",
            "_view_module_version": "1.2.0",
            "_view_name": "StyleView",
            "bar_color": null,
            "description_width": ""
          }
        },
        "ccf26fdacfc74ab2b6d3144c30367493": {
          "model_module": "@jupyter-widgets/controls",
          "model_module_version": "1.5.0",
          "model_name": "HBoxModel",
          "state": {
            "_dom_classes": [],
            "_model_module": "@jupyter-widgets/controls",
            "_model_module_version": "1.5.0",
            "_model_name": "HBoxModel",
            "_view_count": null,
            "_view_module": "@jupyter-widgets/controls",
            "_view_module_version": "1.5.0",
            "_view_name": "HBoxView",
            "box_style": "",
            "children": [
              "IPY_MODEL_a149e29ca6fa4b0b81d25b08d2dc92d7",
              "IPY_MODEL_732771149c0140a9949e7175a0f23b2e",
              "IPY_MODEL_eae45fbfbe9545fea7c6582a08d3b366"
            ],
            "layout": "IPY_MODEL_56e93ef9cdd04755af580085f19da0de"
          }
        },
        "e228af1f556a427cba1e64a76481f52e": {
          "model_module": "@jupyter-widgets/base",
          "model_module_version": "1.2.0",
          "model_name": "LayoutModel",
          "state": {
            "_model_module": "@jupyter-widgets/base",
            "_model_module_version": "1.2.0",
            "_model_name": "LayoutModel",
            "_view_count": null,
            "_view_module": "@jupyter-widgets/base",
            "_view_module_version": "1.2.0",
            "_view_name": "LayoutView",
            "align_content": null,
            "align_items": null,
            "align_self": null,
            "border": null,
            "bottom": null,
            "display": null,
            "flex": null,
            "flex_flow": null,
            "grid_area": null,
            "grid_auto_columns": null,
            "grid_auto_flow": null,
            "grid_auto_rows": null,
            "grid_column": null,
            "grid_gap": null,
            "grid_row": null,
            "grid_template_areas": null,
            "grid_template_columns": null,
            "grid_template_rows": null,
            "height": null,
            "justify_content": null,
            "justify_items": null,
            "left": null,
            "margin": null,
            "max_height": null,
            "max_width": null,
            "min_height": null,
            "min_width": null,
            "object_fit": null,
            "object_position": null,
            "order": null,
            "overflow": null,
            "overflow_x": null,
            "overflow_y": null,
            "padding": null,
            "right": null,
            "top": null,
            "visibility": null,
            "width": null
          }
        },
        "eae45fbfbe9545fea7c6582a08d3b366": {
          "model_module": "@jupyter-widgets/controls",
          "model_module_version": "1.5.0",
          "model_name": "HTMLModel",
          "state": {
            "_dom_classes": [],
            "_model_module": "@jupyter-widgets/controls",
            "_model_module_version": "1.5.0",
            "_model_name": "HTMLModel",
            "_view_count": null,
            "_view_module": "@jupyter-widgets/controls",
            "_view_module_version": "1.5.0",
            "_view_name": "HTMLView",
            "description": "",
            "description_tooltip": null,
            "layout": "IPY_MODEL_1bd04eceb5224c99af10b279edb84727",
            "placeholder": "​",
            "style": "IPY_MODEL_06e90dd00d4b4da09973de3e8b03db46",
            "value": " 2329/2329 [00:02&lt;00:00, 813.81 examples/s]"
          }
        },
        "ed6f38fe5e9446bdae0969311238d593": {
          "model_module": "@jupyter-widgets/base",
          "model_module_version": "1.2.0",
          "model_name": "LayoutModel",
          "state": {
            "_model_module": "@jupyter-widgets/base",
            "_model_module_version": "1.2.0",
            "_model_name": "LayoutModel",
            "_view_count": null,
            "_view_module": "@jupyter-widgets/base",
            "_view_module_version": "1.2.0",
            "_view_name": "LayoutView",
            "align_content": null,
            "align_items": null,
            "align_self": null,
            "border": null,
            "bottom": null,
            "display": null,
            "flex": null,
            "flex_flow": null,
            "grid_area": null,
            "grid_auto_columns": null,
            "grid_auto_flow": null,
            "grid_auto_rows": null,
            "grid_column": null,
            "grid_gap": null,
            "grid_row": null,
            "grid_template_areas": null,
            "grid_template_columns": null,
            "grid_template_rows": null,
            "height": null,
            "justify_content": null,
            "justify_items": null,
            "left": null,
            "margin": null,
            "max_height": null,
            "max_width": null,
            "min_height": null,
            "min_width": null,
            "object_fit": null,
            "object_position": null,
            "order": null,
            "overflow": null,
            "overflow_x": null,
            "overflow_y": null,
            "padding": null,
            "right": null,
            "top": null,
            "visibility": null,
            "width": null
          }
        },
        "f2cb1af99c3a44a49ec1ae8c55e7e3b6": {
          "model_module": "@jupyter-widgets/base",
          "model_module_version": "1.2.0",
          "model_name": "LayoutModel",
          "state": {
            "_model_module": "@jupyter-widgets/base",
            "_model_module_version": "1.2.0",
            "_model_name": "LayoutModel",
            "_view_count": null,
            "_view_module": "@jupyter-widgets/base",
            "_view_module_version": "1.2.0",
            "_view_name": "LayoutView",
            "align_content": null,
            "align_items": null,
            "align_self": null,
            "border": null,
            "bottom": null,
            "display": null,
            "flex": null,
            "flex_flow": null,
            "grid_area": null,
            "grid_auto_columns": null,
            "grid_auto_flow": null,
            "grid_auto_rows": null,
            "grid_column": null,
            "grid_gap": null,
            "grid_row": null,
            "grid_template_areas": null,
            "grid_template_columns": null,
            "grid_template_rows": null,
            "height": null,
            "justify_content": null,
            "justify_items": null,
            "left": null,
            "margin": null,
            "max_height": null,
            "max_width": null,
            "min_height": null,
            "min_width": null,
            "object_fit": null,
            "object_position": null,
            "order": null,
            "overflow": null,
            "overflow_x": null,
            "overflow_y": null,
            "padding": null,
            "right": null,
            "top": null,
            "visibility": null,
            "width": null
          }
        }
      }
    }
  },
  "nbformat": 4,
  "nbformat_minor": 0
}
