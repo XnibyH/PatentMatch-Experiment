{
 "cells": [
  {
   "cell_type": "code",
   "execution_count": 1,
   "metadata": {},
   "outputs": [
    {
     "name": "stdout",
     "output_type": "stream",
     "text": [
      "/data/testing/PatentMatch-Experiment\n"
     ]
    },
    {
     "name": "stderr",
     "output_type": "stream",
     "text": [
      "/data/testing/.venv/lib/python3.10/site-packages/IPython/core/magics/osm.py:417: UserWarning: This is now an optional IPython functionality, setting dhist requires you to install the `pickleshare` library.\n",
      "  self.shell.db['dhist'] = compress_dhist(dhist)[-100:]\n"
     ]
    }
   ],
   "source": [
    "# set WORKDIR to the top of experiment repository\n",
    "%cd ..\n",
    "# %pwd"
   ]
  },
  {
   "cell_type": "code",
   "execution_count": 2,
   "metadata": {},
   "outputs": [
    {
     "ename": "ImportError",
     "evalue": "cannot import name 'EXPERIMENT_NAME' from 'src.settings' (/data/testing/PatentMatch-Experiment/src/settings.py)",
     "output_type": "error",
     "traceback": [
      "\u001b[0;31m---------------------------------------------------------------------------\u001b[0m",
      "\u001b[0;31mImportError\u001b[0m                               Traceback (most recent call last)",
      "Cell \u001b[0;32mIn[2], line 3\u001b[0m\n\u001b[1;32m      1\u001b[0m \u001b[38;5;28;01mimport\u001b[39;00m \u001b[38;5;21;01mmlflow\u001b[39;00m\n\u001b[1;32m      2\u001b[0m \u001b[38;5;28;01mfrom\u001b[39;00m \u001b[38;5;21;01mdatetime\u001b[39;00m \u001b[38;5;28;01mimport\u001b[39;00m datetime\n\u001b[0;32m----> 3\u001b[0m \u001b[38;5;28;01mfrom\u001b[39;00m \u001b[38;5;21;01msrc\u001b[39;00m\u001b[38;5;21;01m.\u001b[39;00m\u001b[38;5;21;01msettings\u001b[39;00m \u001b[38;5;28;01mimport\u001b[39;00m (\n\u001b[1;32m      4\u001b[0m     MLFLOW_TRACKING_URI,\n\u001b[1;32m      5\u001b[0m     MLFLOW_TRACKING_USERNAME,\n\u001b[1;32m      6\u001b[0m     MLFLOW_TRACKING_PASSWORD,\n\u001b[1;32m      7\u001b[0m     EXPERIMENT_NAME,\n\u001b[1;32m      8\u001b[0m     )\n\u001b[1;32m     10\u001b[0m \u001b[38;5;66;03m# temp\u001b[39;00m\n\u001b[1;32m     11\u001b[0m \u001b[38;5;28;01mimport\u001b[39;00m \u001b[38;5;21;01mrandom\u001b[39;00m\n",
      "\u001b[0;31mImportError\u001b[0m: cannot import name 'EXPERIMENT_NAME' from 'src.settings' (/data/testing/PatentMatch-Experiment/src/settings.py)"
     ]
    }
   ],
   "source": [
    "import mlflow\n",
    "from datetime import datetime\n",
    "from src.settings import (\n",
    "    MLFLOW_TRACKING_URI,\n",
    "    MLFLOW_TRACKING_USERNAME,\n",
    "    MLFLOW_TRACKING_PASSWORD,\n",
    "    EXPERIMENT_NAME,\n",
    "    )\n",
    "\n",
    "# temp\n",
    "import random\n",
    "from time import sleep\n"
   ]
  },
  {
   "cell_type": "code",
   "execution_count": null,
   "metadata": {},
   "outputs": [],
   "source": [
    "# Check if GPU is available and set the device\n",
    "# device = torch.device(\"cuda\" if torch.cuda.is_available() else \"cpu\")"
   ]
  },
  {
   "cell_type": "code",
   "execution_count": null,
   "metadata": {},
   "outputs": [],
   "source": [
    "def timestamp():\n",
    "    \"\"\"This function creates current timestamp\"\"\"\n",
    "    return datetime.now().strftime(\"%Y_%m_%d_%H_%M_%S\")"
   ]
  },
  {
   "cell_type": "code",
   "execution_count": null,
   "metadata": {},
   "outputs": [],
   "source": [
    "config = {\n",
    "    'test_key': 'test_value',\n",
    "    'num_epochs': 5,\n",
    "}\n",
    "\n",
    "# init mlflow experiment (use existing one)\n",
    "experiment = mlflow.get_experiment_by_name(EXPERIMENT_NAME)\n",
    "\n",
    "# run experiment\n",
    "with mlflow.start_run(experiment_id=experiment.experiment_id, log_system_metrics=True) as run:\n",
    "    # set run name\n",
    "    mlflow.set_tag(key='mlflow.runName',\n",
    "                    value=f'TEST_{timestamp()}_{MLFLOW_TRACKING_USERNAME}')  # TODO remove 'TEST_'\n",
    "    \n",
    "    # log parameters provided in config variable\n",
    "    # for param_name, param_value in config.items():\n",
    "    #     mlflow.log_param(param_name, param_value)\n",
    "    mlflow.log_params(config)\n",
    "\n",
    "    \n",
    "    for epoch in range(config['num_epochs']):  # Number of training epochs\n",
    "        # # set run name\n",
    "        # mlflow.set_tag(key='mlflow.runName',\n",
    "        #                 value=f'TEST_{timestamp()}_{MLFLOW_TRACKING_USERNAME}')  # TODO remove 'TEST_'\n",
    "        \n",
    "        # model.train()\n",
    "        mlflow.log_metric(\"random_metric\", epoch+random.randint(1, 100), step=epoch)\n",
    "\n",
    "        sleep(3)\n",
    "\n",
    "# end experiment\n",
    "mlflow.end_run()\n"
   ]
  },
  {
   "cell_type": "markdown",
   "metadata": {},
   "source": [
    "- mlflow\n",
    "- Implement a classic transformer-based classifier.\n",
    "    - Split the training data into train and validation sets\n",
    "    - fine-tune\n",
    "    - test with test data\n",
    "- Obtain quality metrics on the test set. Do include F1 score and Matthews Correlation Coefficient\n",
    "- "
   ]
  }
 ],
 "metadata": {
  "kernelspec": {
   "display_name": "pytor_gpu",
   "language": "python",
   "name": "python3"
  },
  "language_info": {
   "codemirror_mode": {
    "name": "ipython",
    "version": 3
   },
   "file_extension": ".py",
   "mimetype": "text/x-python",
   "name": "python",
   "nbconvert_exporter": "python",
   "pygments_lexer": "ipython3",
   "version": "3.10.12"
  }
 },
 "nbformat": 4,
 "nbformat_minor": 2
}
