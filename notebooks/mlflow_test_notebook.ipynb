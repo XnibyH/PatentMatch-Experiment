{
 "cells": [
  {
   "cell_type": "code",
   "execution_count": null,
   "metadata": {},
   "outputs": [],
   "source": [
    "import mlflow"
   ]
  },
  {
   "cell_type": "code",
   "execution_count": null,
   "metadata": {},
   "outputs": [],
   "source": [
    "#workdir .."
   ]
  },
  {
   "cell_type": "code",
   "execution_count": null,
   "metadata": {},
   "outputs": [],
   "source": [
    "# This variable along with the timestamp will be used to create the name of the experiment run. By default, this is the MLflow username, but you can change it as you like.\n",
    "user = MLFLOW_TRACKING_USERNAME\n",
    "# This variable will be the name of the folder in MLflow. You can change it as you wish.\n",
    "# If you provide the name of an already existing experiment, the experiment runs will be saved in the specified folder.\n",
    "# If you provide the name of a non-existent experiment, you will create a new folder with the given name.\n",
    "experiment_name = 'test'\n",
    "\n",
    "\n",
    "def timestamp():\n",
    "    \"\"\"This function creates current timestamp\"\"\"\n",
    "    return datetime.now().strftime(\"%Y_%m_%d_%H%M_%S\")"
   ]
  },
  {
   "cell_type": "code",
   "execution_count": null,
   "metadata": {},
   "outputs": [],
   "source": []
  },
  {
   "cell_type": "code",
   "execution_count": null,
   "metadata": {},
   "outputs": [],
   "source": [
    "Michal_PatentMatchBaseline"
   ]
  }
 ],
 "metadata": {
  "kernelspec": {
   "display_name": "pytor_gpu",
   "language": "python",
   "name": "python3"
  },
  "language_info": {
   "name": "python",
   "version": "3.10.12"
  }
 },
 "nbformat": 4,
 "nbformat_minor": 2
}
